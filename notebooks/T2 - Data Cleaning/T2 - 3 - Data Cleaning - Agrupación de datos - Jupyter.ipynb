{
 "cells": [
  {
   "cell_type": "markdown",
   "id": "59518892",
   "metadata": {},
   "source": [
    "### 51. Un dummy data frame con variables categóricas"
   ]
  },
  {
   "cell_type": "markdown",
   "id": "f417656c",
   "metadata": {},
   "source": [
    "__Agrecación de datos__ :  \n",
    "+ Significa combinarlos con algún criterio el más típico es utilizar una __variable categórica__ para juntar toda la información referente a una misma categoría\n",
    "+ Es muy útil para llevar a cabo un análisis categórico y tomar decisiones en base a qué categoría pertenece un elemento del modelo."
   ]
  },
  {
   "cell_type": "code",
   "execution_count": 1,
   "id": "0360bb7a",
   "metadata": {},
   "outputs": [],
   "source": [
    "import numpy as np\n",
    "import pandas as pd"
   ]
  },
  {
   "cell_type": "code",
   "execution_count": 3,
   "id": "025cd367",
   "metadata": {},
   "outputs": [],
   "source": [
    "gender = [\"Male\", \"Female\"]\n",
    "income = [\"Poor\", \"Middle Class\", \"Rich\"]"
   ]
  },
  {
   "cell_type": "code",
   "execution_count": 4,
   "id": "368a2d43",
   "metadata": {},
   "outputs": [],
   "source": [
    "n_filas = 500  # nº de personas\n",
    "\n",
    "gender_data = []\n",
    "income_data = []\n",
    "\n",
    "for i in range(0, n_filas):\n",
    "    gender_data.append(np.random.choice(gender)) # elegir algo aleatorio\n",
    "    income_data.append(np.random.choice(income))\n",
    "\n"
   ]
  },
  {
   "cell_type": "code",
   "execution_count": 8,
   "id": "66dbf01f",
   "metadata": {},
   "outputs": [
    {
     "data": {
      "text/plain": [
       "['Female', 'Female', 'Male', 'Female', 'Male']"
      ]
     },
     "execution_count": 8,
     "metadata": {},
     "output_type": "execute_result"
    }
   ],
   "source": [
    "gender_data[:5]"
   ]
  },
  {
   "cell_type": "code",
   "execution_count": 10,
   "id": "bdbb091b",
   "metadata": {},
   "outputs": [
    {
     "data": {
      "text/plain": [
       "['Middle Class', 'Rich', 'Middle Class', 'Rich', 'Rich']"
      ]
     },
     "execution_count": 10,
     "metadata": {},
     "output_type": "execute_result"
    }
   ],
   "source": [
    "income_data[:5]"
   ]
  },
  {
   "cell_type": "code",
   "execution_count": 12,
   "id": "7028c116",
   "metadata": {},
   "outputs": [],
   "source": [
    "#Z -> N(0,1)\n",
    "#N(m,n) -> mu + sd *Z\n",
    "height = 175 + 30 * np.random.randn(n_filas)\n",
    "weight = 65 + 25 * np.random.randn(n_filas)\n",
    "age = 30 + 12 * np.random.randn(n_filas)\n",
    "income = 18000 + 3500 * np.random.randn(n_filas)\n"
   ]
  },
  {
   "cell_type": "code",
   "execution_count": 13,
   "id": "a7888446",
   "metadata": {},
   "outputs": [],
   "source": [
    "data = pd.DataFrame(\n",
    "    {\n",
    "        \"Gender\" : gender_data,\n",
    "        \"Economic Status\" : income_data,\n",
    "        \"Height\" : height,\n",
    "        \"Weight\" : weight,\n",
    "        \"Age\" : age,\n",
    "        \"Income\": income\n",
    "    }\n",
    ")"
   ]
  },
  {
   "cell_type": "code",
   "execution_count": 14,
   "id": "6815d4b2",
   "metadata": {},
   "outputs": [
    {
     "data": {
      "text/html": [
       "<div>\n",
       "<style scoped>\n",
       "    .dataframe tbody tr th:only-of-type {\n",
       "        vertical-align: middle;\n",
       "    }\n",
       "\n",
       "    .dataframe tbody tr th {\n",
       "        vertical-align: top;\n",
       "    }\n",
       "\n",
       "    .dataframe thead th {\n",
       "        text-align: right;\n",
       "    }\n",
       "</style>\n",
       "<table border=\"1\" class=\"dataframe\">\n",
       "  <thead>\n",
       "    <tr style=\"text-align: right;\">\n",
       "      <th></th>\n",
       "      <th>Gender</th>\n",
       "      <th>Economic Status</th>\n",
       "      <th>Height</th>\n",
       "      <th>Weight</th>\n",
       "      <th>Age</th>\n",
       "      <th>Income</th>\n",
       "    </tr>\n",
       "  </thead>\n",
       "  <tbody>\n",
       "    <tr>\n",
       "      <th>0</th>\n",
       "      <td>Female</td>\n",
       "      <td>Middle Class</td>\n",
       "      <td>126.969516</td>\n",
       "      <td>79.815446</td>\n",
       "      <td>34.404717</td>\n",
       "      <td>14709.415878</td>\n",
       "    </tr>\n",
       "    <tr>\n",
       "      <th>1</th>\n",
       "      <td>Female</td>\n",
       "      <td>Rich</td>\n",
       "      <td>170.313672</td>\n",
       "      <td>24.260721</td>\n",
       "      <td>44.133110</td>\n",
       "      <td>18514.595255</td>\n",
       "    </tr>\n",
       "    <tr>\n",
       "      <th>2</th>\n",
       "      <td>Male</td>\n",
       "      <td>Middle Class</td>\n",
       "      <td>180.896899</td>\n",
       "      <td>77.326882</td>\n",
       "      <td>15.501580</td>\n",
       "      <td>15143.313270</td>\n",
       "    </tr>\n",
       "    <tr>\n",
       "      <th>3</th>\n",
       "      <td>Female</td>\n",
       "      <td>Rich</td>\n",
       "      <td>140.662430</td>\n",
       "      <td>37.277220</td>\n",
       "      <td>26.420433</td>\n",
       "      <td>23921.495647</td>\n",
       "    </tr>\n",
       "    <tr>\n",
       "      <th>4</th>\n",
       "      <td>Male</td>\n",
       "      <td>Rich</td>\n",
       "      <td>127.120168</td>\n",
       "      <td>107.191656</td>\n",
       "      <td>24.108620</td>\n",
       "      <td>16664.287948</td>\n",
       "    </tr>\n",
       "  </tbody>\n",
       "</table>\n",
       "</div>"
      ],
      "text/plain": [
       "   Gender Economic Status      Height      Weight        Age        Income\n",
       "0  Female    Middle Class  126.969516   79.815446  34.404717  14709.415878\n",
       "1  Female            Rich  170.313672   24.260721  44.133110  18514.595255\n",
       "2    Male    Middle Class  180.896899   77.326882  15.501580  15143.313270\n",
       "3  Female            Rich  140.662430   37.277220  26.420433  23921.495647\n",
       "4    Male            Rich  127.120168  107.191656  24.108620  16664.287948"
      ]
     },
     "execution_count": 14,
     "metadata": {},
     "output_type": "execute_result"
    }
   ],
   "source": [
    "data.head()"
   ]
  },
  {
   "cell_type": "code",
   "execution_count": null,
   "id": "e409f0a3",
   "metadata": {},
   "outputs": [],
   "source": []
  }
 ],
 "metadata": {
  "kernelspec": {
   "display_name": "Python 3 (ipykernel)",
   "language": "python",
   "name": "python3"
  },
  "language_info": {
   "codemirror_mode": {
    "name": "ipython",
    "version": 3
   },
   "file_extension": ".py",
   "mimetype": "text/x-python",
   "name": "python",
   "nbconvert_exporter": "python",
   "pygments_lexer": "ipython3",
   "version": "3.9.7"
  }
 },
 "nbformat": 4,
 "nbformat_minor": 5
}
